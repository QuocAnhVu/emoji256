{
 "cells": [
  {
   "cell_type": "code",
   "execution_count": 1,
   "id": "fd5302b5-09a8-4448-9dad-3bbed5a24685",
   "metadata": {
    "tags": []
   },
   "outputs": [],
   "source": [
    "# Get emojis\n",
    "with open('emoji256-sortedPop.txt', 'r', encoding='utf-8') as f:\n",
    "    emoji_lines = f.read().splitlines()\n",
    "\n",
    "emojis = []\n",
    "for line in emoji_lines:\n",
    "    emo = line.split()\n",
    "    emojis.extend(emo)\n",
    "\n",
    "print(emojis)"
   ]
  },
  {
   "cell_type": "code",
   "execution_count": 47,
   "id": "c1547aca-4c5d-4aa8-8063-e1558aeacc56",
   "metadata": {
    "tags": []
   },
   "outputs": [],
   "source": [
    "# Get codepoints as a number.\n",
    "codepoints = list(map(ord, emojis))\n",
    "print([format(x, '08x') for x in codepoints])"
   ]
  },
  {
   "cell_type": "code",
   "execution_count": 48,
   "id": "7aa4b65a-8b40-41c0-8713-c5f9d8fc8a0a",
   "metadata": {
    "tags": []
   },
   "outputs": [],
   "source": [
    "# Reduce c. Every emoji that passes the filter starts with 0x0001F,\n",
    "# so remove first two bytes.\n",
    "c = list(map(lambda x: x.to_bytes(4)[2:], codepoints))\n",
    "c.sort()\n",
    "for i, x in enumerate(c):\n",
    "    print(str(format(i,'03d')) + ' ' + format(x[0], '02x') + format(x[1], '02x'))"
   ]
  },
  {
   "cell_type": "code",
   "execution_count": 45,
   "id": "6a5b0bbe",
   "metadata": {},
   "outputs": [],
   "source": [
    "from itertools import groupby\n",
    "\n",
    "# Key is the entry in the lookup table. We want distribution for more control.\n",
    "# An entry that only has 1 emoji pointing to it is very good. We can use x^y^x=y\n",
    "# to set the hash of the emoji arbitrarily.\n",
    "groups = []\n",
    "for k, g in groupby(d, lambda x: x[0]):\n",
    "    groups.append((k, [x[1] for x in g]))\n",
    "\n",
    "# The tricky part is the entries with multiple emojis pointing to it. We need to\n",
    "# come up with a lookup entry f.e. multigroup s.t. all emojis will hash to different\n",
    "# values. This is like a jigsaw puzzle with all the multigroups except also the\n",
    "# jigsaw pieces change depending on where you put it.\n",
    "groups = [(k,v) for k,v in groups if len(v) > 1]\n",
    "\n",
    "print(len(groups))\n",
    "groups2 = [(k, [v[0] ^ xx ^ 128 for xx in v]) for k, v in groups]\n",
    "print(sorted(groups2, key=lambda x: len(x[1])))"
   ]
  },
  {
   "cell_type": "code",
   "execution_count": 23,
   "id": "98e6f5c5",
   "metadata": {},
   "outputs": [],
   "source": [
    "# Modification of Pearson hashing: for this problem, the first 2 bytes in the\n",
    "# message are the exact same, so they are ignored.\n",
    "# For the other bytes, message[3] has a better distribution than message[2],\n",
    "# which has a repetitive first 4 bits. So if we reduce table lookups to once,\n",
    "# then we should use message[3] as the key into the table.\n",
    "def hash8(message: str, table) -> int:\n",
    "    return table[message[1]] ^ message[0]\n",
    "\n",
    "hashed = list(map(lambda x: hash8(x, table), c))\n",
    "print(sorted(hashed))"
   ]
  },
  {
   "cell_type": "code",
   "execution_count": 24,
   "id": "e3bb7e7c-d719-4b92-89f5-69d2dfc6a1bb",
   "metadata": {},
   "outputs": [],
   "source": [
    "# Brute force - try to find a table that works\n",
    "from random import shuffle\n",
    "\n",
    "def has_collision(sorted_array):\n",
    "    for i in range(1, len(sorted_array)):\n",
    "        if sorted_array[i] == sorted_array[i-1]:\n",
    "            return True\n",
    "    return False\n",
    "\n",
    "# table = list(map(lambda x: format(x & 0xFFFF, \"04x\"), codepoints))\n",
    "table = list(range(256))\n",
    "shuffle(table)\n",
    "\n",
    "tries = 0\n",
    "while(has_collision(sorted(hashed))):\n",
    "    shuffle(table)\n",
    "    hashed = list(map(lambda x: hash8(x, table), c))\n",
    "    tries += 1\n",
    "#     print(tries, end='\\r')"
   ]
  },
  {
   "cell_type": "code",
   "execution_count": null,
   "id": "5c1c32b0-41f6-4ddc-918e-f04d7d6d63f7",
   "metadata": {},
   "outputs": [],
   "source": []
  }
 ],
 "metadata": {
  "kernelspec": {
   "display_name": "Python 3 (ipykernel)",
   "language": "python",
   "name": "python3"
  },
  "language_info": {
   "codemirror_mode": {
    "name": "ipython",
    "version": 3
   },
   "file_extension": ".py",
   "mimetype": "text/x-python",
   "name": "python",
   "nbconvert_exporter": "python",
   "pygments_lexer": "ipython3",
   "version": "3.11.3"
  }
 },
 "nbformat": 4,
 "nbformat_minor": 5
}
