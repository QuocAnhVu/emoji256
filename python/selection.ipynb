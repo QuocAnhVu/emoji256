{
  "cells": [
    {
      "cell_type": "code",
      "execution_count": 110,
      "id": "ee5d91a4",
      "metadata": {},
      "outputs": [],
      "source": [
        "# There is a lot of duplication in the top256 most popular emojis - both visually and semantically.\n",
        "# In mediums where an emoji is used, there is a narrower band of emotions expressed when compared to the full\n",
        "# range of human emotions. By choosing less popular emojis, we can expand the range of expressiveness.\n",
        "\n",
        "# These are the *loose* considerations for choosing/removing emojis\n",
        "# - Popular in usage\n",
        "# - Visually unique\n",
        "# - Emotionally rich\n",
        "# - Distinct. When two emojis are similar - choose the most powerful, most visually unique, or most popular.\n",
        "# - Culturally ubiquitous (to a degree; i.e. it is impossible to avoid culture when talking about food.)\n",
        "# - Non-religious/non-political. Avoid religious symbols and flags.\n",
        "# - Useful as a medium for storytelling (e.g. focus on faces and emotions)\n",
        "# - b'\\0' should visually stand out. Emojis are sorted lexicographically.\n",
        "# - Prefer animal whole-body silhouettes\n",
        "\n",
        "# This was done manually. Below are scripts to help preview changes and spot duplicates.\n",
        "\n",
        "with open('selection.txt', 'r', encoding='utf-8') as f:\n",
        "    lines = f.readlines()\n",
        "\n",
        "emojis = []\n",
        "for line in lines:\n",
        "    emojis.extend(line.strip().split())\n",
        "\n",
        "print(emojis)"
      ]
    },
    {
      "cell_type": "code",
      "execution_count": 111,
      "id": "9a295d60",
      "metadata": {},
      "outputs": [],
      "source": [
        "emojis.sort()\n",
        "with open('selection.txt', 'w', encoding='utf-8') as f:\n",
        "    for emo in emojis:\n",
        "        f.write(emo + '\\n')\n",
        "with open('selection-sortedLex.txt', 'w', encoding='utf-8') as f:\n",
        "    for i in range(0, len(emojis), 16):\n",
        "        emoji_line = emojis[i:i+16]\n",
        "        f.write(''.join(emoji_line) + '\\n')\n",
        "        print(''.join(emoji_line) + '\\n')"
      ]
    },
    {
      "cell_type": "code",
      "execution_count": 112,
      "id": "38717785",
      "metadata": {},
      "outputs": [],
      "source": [
        "# Generate 128 samples of what a 128-bit key would look like\n",
        "import random\n",
        "\n",
        "with open('selection-sample128.txt', 'w', encoding='utf-8') as f:\n",
        "    for i in range(128):\n",
        "        sample = random.sample(emojis, 16)\n",
        "        f.write(''.join(sample) + '\\n')\n",
        "        print(''.join(sample) + '\\n')"
      ]
    },
    {
      "cell_type": "code",
      "execution_count": 99,
      "id": "a8703206",
      "metadata": {},
      "outputs": [],
      "source": [
        "# Save selection to new emoji256 list.\n",
        "with open('emoji256-v1-sortedLex.txt', 'w', encoding='utf-8') as f:\n",
        "    for i in range(0, len(emojis), 16):\n",
        "        emoji_line = emojis[i:i+16]\n",
        "        f.write(''.join(emoji_line) + '\\n')\n",
        "        print(''.join(emoji_line) + '\\n')"
      ]
    },
    {
      "cell_type": "code",
      "execution_count": 114,
      "id": "4fc07eae",
      "metadata": {},
      "outputs": [],
      "source": [
        "# For writing to table.rs\n",
        "from unicodedata import normalize\n",
        "\n",
        "with open('emojis.txt', 'w', encoding='utf-8') as f:\n",
        "    for i in range(0, len(emojis), 16):\n",
        "        emoji_line = map(lambda s: normalize('NFKC', s), emoji_line)\n",
        "        emoji_line = map(lambda emo: f\"'{emo}'\", emojis[i:i+16])\n",
        "        line = ', '.join(emoji_line) + ',\\n'\n",
        "        f.write(line)\n",
        "        print(line)"
      ]
    }
  ],
  "metadata": {
    "kernelspec": {
      "display_name": "Python 3 (ipykernel)",
      "language": "python",
      "name": "python3"
    },
    "language_info": {
      "codemirror_mode": {
        "name": "ipython",
        "version": 3
      },
      "file_extension": ".py",
      "mimetype": "text/x-python",
      "name": "python",
      "nbconvert_exporter": "python",
      "pygments_lexer": "ipython3",
      "version": "3.11.3"
    }
  },
  "nbformat": 4,
  "nbformat_minor": 5
}
