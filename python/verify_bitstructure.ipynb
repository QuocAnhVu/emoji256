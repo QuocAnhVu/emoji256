{
  "cells": [
    {
      "cell_type": "code",
      "execution_count": 2,
      "id": "19aac7ab-fdd1-478f-a094-510ed1457283",
      "metadata": {
        "tags": []
      },
      "outputs": [],
      "source": [
        "# Get emojis\n",
        "with open('emojiAll-filtered-sortedLex.txt', 'r', encoding='utf-8') as f:\n",
        "    emoji_lines = f.read().splitlines()\n",
        "emojis = []\n",
        "for line in emoji_lines:\n",
        "    emo = line.split()\n",
        "    emojis.extend(emo)\n",
        "print(emojis)"
      ]
    },
    {
      "cell_type": "code",
      "execution_count": 3,
      "id": "509d2179-0774-40f2-8f07-5ea05804b219",
      "metadata": {
        "tags": []
      },
      "outputs": [],
      "source": [
        "# Get codepoints\n",
        "codepoints = list(map(ord, emojis))\n",
        "print(list(map(lambda x: format(x, '08x'), codepoints)))\n",
        "print(list(map(lambda x: format(x & 0xFFF, '03x'), codepoints)))\n",
        "\n",
        "# Notice that all emojis that passed the filter have the prefix: 0x0001f"
      ]
    }
  ],
  "metadata": {
    "kernelspec": {
      "display_name": "Python 3 (ipykernel)",
      "language": "python",
      "name": "python3"
    },
    "language_info": {
      "codemirror_mode": {
        "name": "ipython",
        "version": 3
      },
      "file_extension": ".py",
      "mimetype": "text/x-python",
      "name": "python",
      "nbconvert_exporter": "python",
      "pygments_lexer": "ipython3",
      "version": "3.11.3"
    }
  },
  "nbformat": 4,
  "nbformat_minor": 5
}
