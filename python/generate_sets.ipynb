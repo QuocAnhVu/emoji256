{
 "cells": [
  {
   "cell_type": "code",
   "execution_count": null,
   "id": "762ccfb9",
   "metadata": {},
   "outputs": [],
   "source": [
    "import unicodedata\n",
    "\n",
    "with open('emojiAll-sortedPop.txt', 'r', encoding='utf-8') as f:\n",
    "    all_emojis = f.read().splitlines()\n",
    "\n",
    "# Filter out all emojis that have multiple codepoints and have a normalized byte-length != 4.\n",
    "filtered_emojis = [emoji for emoji in all_emojis if len(unicodedata.normalize('NFC', emoji)) == 1 and len(emoji.encode('utf-8')) == 4]\n"
   ]
  },
  {
   "cell_type": "code",
   "execution_count": null,
   "id": "45098376",
   "metadata": {},
   "outputs": [],
   "source": [
    "# Save sorted by popularity and lexicographically\n",
    "with open('emojiAll-filtered-sortedPop.txt', 'w', encoding='utf-8') as f:\n",
    "    for i in range(0, len(filtered_emojis), 16):\n",
    "        emoji_line = filtered_emojis[i:i+16]\n",
    "        f.write(' '.join(emoji_line) + '\\n')\n",
    "sorted_filtered_emojis = sorted(filtered_emojis)\n",
    "with open('emojiAll-filtered-sortedLex.txt', 'w', encoding='utf-8') as f:\n",
    "    for i in range(0, len(sorted_filtered_emojis), 16):\n",
    "        emoji_line = sorted_filtered_emojis[i:i+16]\n",
    "        f.write(' '.join(emoji_line) + '\\n')"
   ]
  },
  {
   "cell_type": "code",
   "execution_count": null,
   "id": "d224e052",
   "metadata": {},
   "outputs": [],
   "source": [
    "# Save top 256 for emoji256\n",
    "emoji256 = filtered_emojis[:256]\n",
    "\n",
    "# Save sorted by popularity and lexicographically\n",
    "with open('emoji256-filtered-sortedPop.txt', 'w', encoding='utf-8') as f:\n",
    "    for i in range(0, len(emoji256), 16):\n",
    "        emoji_line = emoji256[i:i+16]\n",
    "        f.write(' '.join(emoji_line) + '\\n')\n",
    "sorted_emoji256 = sorted(emoji256)\n",
    "with open('emoji256-filtered-sortedLex.txt', 'w', encoding='utf-8') as f:\n",
    "    for i in range(0, len(sorted_emoji256), 16):\n",
    "        emoji_line = sorted_emoji256[i:i+16]\n",
    "        f.write(' '.join(emoji_line) + '\\n')\n"
   ]
  },
  {
   "cell_type": "code",
   "execution_count": null,
   "id": "7a6e0fc4",
   "metadata": {},
   "outputs": [],
   "source": [
    "# Generate 128 samples of what a 128-bit key would look like\n",
    "import random\n",
    "\n",
    "with open('emoji256-sample128.txt', 'w', encoding='utf-8') as f:\n",
    "    for i in range(128):\n",
    "        sample = random.sample(sorted_emojis, 16)\n",
    "        f.write(' '.join(sample) + '\\n')"
   ]
  }
 ],
 "metadata": {
  "kernelspec": {
   "display_name": "Python 3 (ipykernel)",
   "language": "python",
   "name": "python3"
  },
  "language_info": {
   "codemirror_mode": {
    "name": "ipython",
    "version": 3
   },
   "file_extension": ".py",
   "mimetype": "text/x-python",
   "name": "python",
   "nbconvert_exporter": "python",
   "pygments_lexer": "ipython3",
   "version": "3.11.3"
  }
 },
 "nbformat": 4,
 "nbformat_minor": 5
}
